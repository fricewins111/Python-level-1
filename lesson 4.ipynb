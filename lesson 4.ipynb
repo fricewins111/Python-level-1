{
 "cells": [
  {
   "cell_type": "markdown",
   "metadata": {},
   "source": [
    "# Easy\n",
    "\n",
    "### Все задачи текущего блока решите с помощью генераторов списков!"
   ]
  },
  {
   "cell_type": "code",
   "execution_count": 5,
   "metadata": {},
   "outputs": [
    {
     "name": "stdout",
     "output_type": "stream",
     "text": [
      "[1, 4, 16, 0]\n"
     ]
    }
   ],
   "source": [
    "# Задание-1:\n",
    "# Дан список, заполненный произвольными целыми числами. \n",
    "# Получить новый список, элементы которого будут\n",
    "# квадратами элементов исходного списка\n",
    "# [1, 2, 4, 0] --> [1, 4, 16, 0]\n",
    "\n",
    "a = list(i**2 for i in [1, 2, 4, 0])  # возводим в степень каждый элемент \n",
    "\n",
    "print(a)"
   ]
  },
  {
   "cell_type": "code",
   "execution_count": null,
   "metadata": {},
   "outputs": [],
   "source": [
    "# Задание-2:\n",
    "# Даны два списка фруктов.\n",
    "# Получить список фруктов, присутствующих в обоих исходных списках.\n",
    "\n",
    "\n",
    "list2 = ['Яблоко', 'Арбуз', 'Персик', 'Виноград', 'Авокадо']\n",
    "list1 = ['Яблоко', 'Персик', 'Виноград']\n",
    "list3 = list(i for i in list2 if i in list1) if len(list1) > len(list2) else list(i for i in list1 if i in list2)  \n",
    "# берем каждый элемент первого списка если он находится во втором, так же проверяем какой список меньше \n",
    "# и сравниваем меньший список (оптимизация скорости)\n",
    "print(list3)"
   ]
  },
  {
   "cell_type": "code",
   "execution_count": 35,
   "metadata": {},
   "outputs": [
    {
     "name": "stdout",
     "output_type": "stream",
     "text": [
      "Исходный список:\n",
      " [54, -38, -40, 97, 91, -90, -75, 98, -85, 49, 101, -43, -53, 45, -25, -36, -6, 78, 74, 33, 31, 66, 93, 59, -18, 77, 55, -44, -35, -14, 22, 75, 63, 20, -70, 88, -16, 99, 0, 68, -28, -87, 50, -13, 73, 98, -70, -94, 38, -43, 68, -99, -54, 98, 60, 85, 14, 76, -68, 43, -97, -11, -63, 56, -27, -43, -22, 70, -94, 51, -17, -38, -30, -45, -69, 20, 74, -84, 48, -14, 50, 29, -56, 55, 37, 56, 94, 47, 78, -76, 82, -23, -74, -88, 33, 11, -58, -34, 42, 1, -44, -11, 65, -72, -61, -34, 42, -10, 4, -99, 6, -47, 23, -8, -88, 62, -11, -76, 83, -94, -27, 59, -80, -97, -76, -100, -37, 72, -94, -45, 27, -79, -67, 16, -11, 47, 4, -66, -43, -62, -70, 67, -43, -13, 32, -25, -20, 55, 23, 98] \n",
      "\n",
      " ************************************************** \n",
      "\n",
      " Ответ:\n",
      " [54, 45, 78, 33, 66, 93, 75, 63, 99, 51, 78, 33, 42, 42, 6, 27]\n"
     ]
    }
   ],
   "source": [
    "# Задание-3:\n",
    "# Дан список, заполненный произвольными числами.\n",
    "# Получить список из элементов исходного, удовлетворяющих следующим условиям:\n",
    "# + Элемент кратен 3\n",
    "# + Элемент положительный\n",
    "# + Элемент не кратен 4\n",
    "from random import randint\n",
    "\n",
    "query = 150   # количество случайных чисел в списке\n",
    "\n",
    "list1 = list(randint(-100, 101) for i in range(query))\n",
    "# генерируем список из случайных чисел\n",
    "\n",
    "list2 = list(i for i in list1 if i % 3 == 0 and i > 0 and i % 4 != 0)\n",
    "\n",
    "print('Исходный список:\\n', list1, '\\n\\n', '*'*50, '\\n\\n', 'Ответ:\\n', list2)"
   ]
  },
  {
   "cell_type": "markdown",
   "metadata": {},
   "source": [
    "# Normal"
   ]
  },
  {
   "cell_type": "code",
   "execution_count": 164,
   "metadata": {},
   "outputs": [
    {
     "name": "stdout",
     "output_type": "stream",
     "text": [
      "Результат без re:\n",
      "\n",
      " ['mt', 'm', 'mcq', 'iry', 'hh', 'xq', 'd', 'l', 's', 'kg', 'm', 's', 'v', 'fbmx', 'aysm', 'p', 'ujalp', 'z', 'fw', 'qwksr', 'eip', 'l', 'ecl', 'w', 'okt', 'lf', 'snawvj', 'hfgew', 'z', 'f', 't', 'yd', 'a', 'px', 'j', 'g', 'v', 'oumes', 'vj', 'os', 'fuh', 'u', 'w', 'l', 'dk', 'jf', 'qn', 'xoois', 'ux', 'hyj', 'a', 'wdo', 'nsll', 'ng', 'lmkp', 'lq', 'x', 'qqqg', 'd', 's', 'vqpp', 'fy', 'j', 'apz', 'rfinzzs', 't', 'clwbf', 'zytm', 'g', 'zxv', 'kd', 'a', 'fs', 'f', 'chg', 's', 'n', 'n', 'etek', 'u', 'lu', 'sdelz', 'g', 'zuwiimqk', 'py', 'z', 'y', 'k', 'kdy', 'v', 'jd', 'y', 'fk', 'a', 'bf', 'vz', 'r', 's', 'p', 'tdq', 'lt', 'qc', 'vl', 'z', 'o', 'n', 'w', 'kapx', 'qn', 'f', 'whch', 'd', 'b', 'u', 'b', 'rw', 'y', 'x', 'ctsz', 'j', 'nnda', 'kc', 'm', 'j', 'e', 'dev', 'h', 'h', 'qbj', 'u', 'r', 'yw', 'kmj', 'h', 'ofa', 'puespa', 's', 'qs', 'ex', 'q', 's', 'a', 'cgns', 's', 'xiihws', 'd', 'i', 'a', 'n', 'f', 't', 'h', 'qrvp', 'ii', 'c', 'r', 'k', 'p', 'flw', 'v', 'z', 'tm', 'lm', 'ndi', 'b', 'z', 'k', 'eu', 'kyj', 'si', 'sn', 'ti', 'trb', 'unur', 'g', 'i', 'j', 't', 'n', 'j', 'e', 'i', 'lxn', 'kqf', 'b', 'f', 'u', 'm', 'p', 'kqigx', 'kr', 'pp', 'e', 'xb', 'vq', 'mls', 'yzen', 'o', 'xy', 'vbnh', 'u', 'q', 'jvihu', 'sfn', 'fptv', 'lh', 'hy', 'wx', 'nq', 's', 'd', 'vnuy', 'he', 'p', 'e', 'o', 'i', 'a', 'i', 'gs', 'r', 'e', 'o', 'l', 'v', 'n', 'g', 'mys', 'e', 'n', 'zvd', 'yle', 'yln', 'f', 'j', 'ntltignb', 'oi', 'z', 'w', 'i', 'wycdl', 'fy', 'mk', 'q', 'w', 'rx', 'c']\n",
      "\n",
      "\n",
      " ************************************************** \n",
      "\n",
      "\n",
      "Результат c re:\n",
      "\n",
      " ['mt', 'm', 'mcq', 'iry', 'hh', 'xq', 'd', 'l', 's', 'kg', 'm', 's', 'v', 'fbmx', 'aysm', 'p', 'ujalp', 'z', 'fw', 'qwksr', 'eip', 'l', 'ecl', 'w', 'okt', 'lf', 'snawvj', 'hfgew', 'z', 'f', 't', 'yd', 'a', 'px', 'j', 'g', 'v', 'oumes', 'vj', 'os', 'fuh', 'u', 'w', 'l', 'dk', 'jf', 'qn', 'xoois', 'ux', 'hyj', 'a', 'wdo', 'nsll', 'ng', 'lmkp', 'lq', 'x', 'qqqg', 'd', 's', 'vqpp', 'fy', 'j', 'apz', 'rfinzzs', 't', 'clwbf', 'zytm', 'g', 'zxv', 'kd', 'a', 'fs', 'f', 'chg', 's', 'n', 'n', 'etek', 'u', 'lu', 'sdelz', 'g', 'zuwiimqk', 'py', 'z', 'y', 'k', 'kdy', 'v', 'jd', 'y', 'fk', 'a', 'bf', 'vz', 'r', 's', 'p', 'tdq', 'lt', 'qc', 'vl', 'z', 'o', 'n', 'w', 'kapx', 'qn', 'f', 'whch', 'd', 'b', 'u', 'b', 'rw', 'y', 'x', 'ctsz', 'j', 'nnda', 'kc', 'm', 'j', 'e', 'dev', 'h', 'h', 'qbj', 'u', 'r', 'yw', 'kmj', 'h', 'ofa', 'puespa', 's', 'qs', 'ex', 'q', 's', 'a', 'cgns', 's', 'xiihws', 'd', 'i', 'a', 'n', 'f', 't', 'h', 'qrvp', 'ii', 'c', 'r', 'k', 'p', 'flw', 'v', 'z', 'tm', 'lm', 'ndi', 'b', 'z', 'k', 'eu', 'kyj', 'si', 'sn', 'ti', 'trb', 'unur', 'g', 'i', 'j', 't', 'n', 'j', 'e', 'i', 'lxn', 'kqf', 'b', 'f', 'u', 'm', 'p', 'kqigx', 'kr', 'pp', 'e', 'xb', 'vq', 'mls', 'yzen', 'o', 'xy', 'vbnh', 'u', 'q', 'jvihu', 'sfn', 'fptv', 'lh', 'hy', 'wx', 'nq', 's', 'd', 'vnuy', 'he', 'p', 'e', 'o', 'i', 'a', 'i', 'gs', 'r', 'e', 'o', 'l', 'v', 'n', 'g', 'mys', 'e', 'n', 'zvd', 'yle', 'yln', 'f', 'j', 'ntltignb', 'oi', 'z', 'w', 'i', 'wycdl', 'fy', 'mk', 'q', 'w', 'rx', 'c'] \n",
      "\n",
      " ************************************************** \n",
      "\n",
      " Результат одинаковый? - True\n"
     ]
    }
   ],
   "source": [
    "# Задание-1:\n",
    "# Вывести символы в нижнем регистре, которые находятся вокруг\n",
    "# 1 или более символов в верхнем регистре.\n",
    "# Т.е. из строки \"mtMmEZUOmcq\" нужно получить ['mt', 'm', 'mcq']\n",
    "# Решить задачу двумя способами: с помощью re и без\n",
    "\n",
    "line = 'mtMmEZUOmcqWiryMQhhTxqKdSTKCYEJlEZCsGAMkgAYEOmHBSQsSUHKvSfbmxULaysmNO'\\\n",
    "       'GIPHpEMujalpPLNzRWXfwHQqwksrFeipEUlTLeclMwAoktKlfUBJHPsnawvjPhfgewVzK'\\\n",
    "       'TUfSYtBydXaVIpxWjNKgXANvIoumesCSSvjEGRJosUfuhRRDUuTQwLlJJJDdkVjfSAHqn'\\\n",
    "       'LxooisBDWuxIhyjJaXDYwdoVPnsllMngNlmkpYOlqXEFIxPqqqgAWdJsOvqppOfyIVjXa'\\\n",
    "       'pzGOrfinzzsNMtBIOclwbfRzytmDgEFUzxvZGkdOaQYLVBfsGSAfJMchgBWAsGnBnWete'\\\n",
    "       'kUTVuPluKRMQsdelzBgLzuwiimqkFKpyQRzOUyHkXRkdyIEBvTjdByCfkVIAQaAbfCvzQ'\\\n",
    "       'WrMMsYpLtdqRltXPqcSMXJIvlBzKoQnSwPFkapxGqnZCVFfKRLUIGBLOwhchWCdJbRuXb'\\\n",
    "       'JrwTRNyAxDctszKjSnndaFkcBZmJZWjUeYMdevHhBJMBSShDqbjAuDGTTrSXZywYkmjCC'\\\n",
    "       'EUZShGofaFpuespaZWLFNIsOqsIRLexWqTXsOaScgnsUKsJxiihwsCdBViEQBHQaOnLfB'\\\n",
    "       'tQQShTYHFqrvpVFiiEFMcIFTrTkIBpGUflwTvAzMUtmSQQZGHlmQKJndiAXbIzVkGSeuT'\\\n",
    "       'SkyjIGsiWLALHUCsnQtiOtrbQOQunurZgHFiZjWtZCEXZCnZjLeMiFlxnPkqfJFbCfKCu'\\\n",
    "       'UJmGYJZPpRBFNLkqigxFkrRAppYRXeSCBxbGvqHmlsSZMWSVQyzenWoGxyGPvbnhWHuXB'\\\n",
    "       'qHFjvihuNGEEFsfnMXTfptvIOlhKhyYwxLnqOsBdGvnuyEZIheApQGOXWeXoLWiDQNJFa'\\\n",
    "       'XiUWgsKQrDOeZoNlZNRvHnLgCmysUeKnVJXPFIzvdDyleXylnKBfLCjLHntltignbQoiQ'\\\n",
    "       'zTYwZAiRwycdlHfyHNGmkNqSwXUrxGc'\n",
    "\n",
    "\n",
    "# решение без re\n",
    "def line_re(line):\n",
    "    line2 = []\n",
    "    for i in line:\n",
    "        if i == i.lower():\n",
    "            line2.append(i)\n",
    "        else:\n",
    "            line2.append(' ')\n",
    "    return line2\n",
    "# функция которая находит все буквы в нижнем регистре и добавляет в массив\n",
    "\n",
    "\n",
    "line2 = ''.join(line_re(line)).split()\n",
    "\n",
    "#полученный массив мы приводим к строке а буквы в верхнем регистре заменяем на пробелы - далее \n",
    "#с помощью небольшой хитростью через сплит - преобразуем обратно в массив и получаем искомый результат)))\n",
    "\n",
    "print('Результат без re:\\n\\n',line2)\n",
    "\n",
    "#через re\n",
    "\n",
    "print('\\n\\n', '*'*50, '\\n\\n')\n",
    "\n",
    "import re\n",
    "\n",
    "line3 = re.split('[A-Z]+', line)\n",
    "\n",
    "\n",
    "print('Результат c re:\\n\\n', line3, '\\n\\n', '*'*50, '\\n\\n', 'Результат одинаковый? -', line3 == line2)\n"
   ]
  },
  {
   "cell_type": "code",
   "execution_count": 3,
   "metadata": {},
   "outputs": [
    {
     "name": "stdout",
     "output_type": "stream",
     "text": [
      "['AY', 'NOGI', 'P', 'UBJ', 'K', 'C', 'EG', 'RR', 'S', 'B', 'XE', 'G', 'B', 'U', 'KR', 'I', 'VI', 'SMX', 'ZC', 'T', 'CCEU', 'ZWLF', 'I', 'E', 'SQQZ', 'Q', 'WLALH', 'Q', 'Y', 'SZMWS', 'NGE', 'M', 'E', 'H']\n",
      "\n",
      "\n",
      " ************************************************** \n",
      "\n",
      " ['AY', 'NOGI', 'P', 'UBJ', 'EG', 'K', 'C', 'EG', 'RR', 'S', 'ZC', 'B', 'XE', 'Y', 'H', 'SQQZ', 'G', 'B', 'U', 'KR', 'I', 'VI', 'SMX', 'ZC', 'T', 'CCEU', 'ZWLF', 'I', 'E', 'SQQZ', 'Q', 'WLALH', 'Q', 'Y', 'SZMWS', 'NGE', 'M', 'E', 'H']\n"
     ]
    }
   ],
   "source": [
    "import re\n",
    "\n",
    "# Задание-2:\n",
    "# Вывести символы в верхнем регистре, слева от которых находятся\n",
    "# два символа в нижнем регистре, а справа - два символа в верхнем регистре.\n",
    "# Т.е. из строки \n",
    "# \"GAMkgAYEOmHBSQsSUHKvSfbmxULaysmNOGIPHpEMujalpPLNzRWXfwHQqwksrFeipEUlTLec\"\n",
    "# нужно получить список строк: ['AY', 'NOGI', 'P']\n",
    "# Решить задачу двумя способами: с помощью re и без.\n",
    "\n",
    "line = 'mtMmEZUOmcqWiryMQhhTxqKdSTKCYEJlEZCsGAMkgAYEOmHBSQsSUHKvSfbmxULaysm'\\\n",
    "       'NOGIPHpEMujalpPLNzRWXfwHQqwksrFeipEUlTLeclMwAoktKlfUBJHPsnawvjPhfgewV'\\\n",
    "       'fzKTUfSYtBydXaVIpxWjNKgXANvIoumesCSSvjEGRJosUfuhRRDUuTQwLlJJJDdkVjfSA'\\\n",
    "       'HqnLxooisBDWuxIhyjJaXDYwdoVPnsllMngNlmkpYOlqXEFIxPqqqgAWdJsOvqppOfyIV'\\\n",
    "       'jXapzGOrfinzzsNMtBIOclwbfRzytmDgEFUzxvZGkdOaQYLVBfsGSAfJMchgBWAsGnBnW'\\\n",
    "       'etekUTVuPluKRMQsdelzBgLzuwiimqkFKpyQRzOUyHkXRkdyIEBvTjdByCfkVIAQaAbfC'\\\n",
    "       'vzQWrMMsYpLtdqRltXPqcSMXJIvlBzKoQnSwPFkapxGqnZCVFfKRLUIGBLOwhchWCdJbR'\\\n",
    "       'uXbJrwTRNyAxDctszKjSnndaFkcBZmJZWjUeYMdevHhBJMBSShDqbjAuDGTTrSXZywYkm'\\\n",
    "       'jCCEUZShGofaFpuespaZWLFNIsOqsIRLexWqTXsOaScgnsUKsJxiihwsCdBViEQBHQaOn'\\\n",
    "       'LfBtQQShTYHFqrvpVFiiEFMcIFTrTkIBpGUflwTvAzMUtmSQQZGHlmQKJndiAXbIzVkGS'\\\n",
    "       'euTSkyjIGsiWLALHUCsnQtiOtrbQOQunurZgHFiZjWtZCEXZCnZjLeMiFlxnPkqfJFbCf'\\\n",
    "       'KCuUJmGYJZPpRBFNLkqigxFkrRAppYRXeSCBxbGvqHmlsSZMWSVQyzenWoGxyGPvbnhWH'\\\n",
    "       'uXBqHFjvihuNGEEFsfnMXTfptvIOlhKhyYwxLnqOsBdGvnuyEZIheApQGOXWeXoLWiDQN'\\\n",
    "       'JFaXiUWgsKQrDOeZoNlZNRvHnLgCmysUeKnVJXPFIzvdDyleXylnKBfLCjLHntltignbQ'\\\n",
    "       'oiQzTYwZAiRwycdlHfyHNGmkNqSwXUrxGC'\n",
    "\n",
    "\n",
    "# Решение с re\n",
    "\n",
    "line1 = re.findall(r'[a-z]{2}([A-Z]+)[A-Z]{2}', line)\n",
    "\n",
    "print(line1)\n",
    "\n",
    "\n",
    "\n",
    "# без re \n",
    "def line_re(line):\n",
    "    line2 = []\n",
    "    for i in line:\n",
    "        if i == i.lower():\n",
    "            line2.append(i)\n",
    "        else:\n",
    "            line2.append(' ')\n",
    "    return line2\n",
    "\n",
    "def line_re_up(line):\n",
    "    line2 = []\n",
    "    for i in line:\n",
    "        if i == i.upper():\n",
    "            line2.append(i)\n",
    "        else:\n",
    "            line2.append(' ')\n",
    "    return line2\n",
    "\n",
    "# берем предыдущую функцию\n",
    "\n",
    "line_lower = ''.join(line_re(line)).split()\n",
    "\n",
    "line_lower = [i[-2:] for i in line_lower if len(i) >= 2]\n",
    "\n",
    "line_upper = ''.join(line_re_up(line)).split()\n",
    "\n",
    "line_upper = [i for i in line_upper if len(i) > 2]\n",
    "\n",
    "\n",
    "result =[]\n",
    "i = 0\n",
    "while i < len(line_lower):\n",
    "    for j in line_upper:\n",
    "        que = line_lower[i] + j\n",
    "        result.append(j[:-2]) if que in line else None\n",
    "    i+=1\n",
    "    \n",
    "print('\\n\\n', '*'*50, '\\n\\n', result)\n",
    "\n",
    "\n",
    "\n",
    "\n"
   ]
  },
  {
   "cell_type": "code",
   "execution_count": 58,
   "metadata": {},
   "outputs": [
    {
     "name": "stdout",
     "output_type": "stream",
     "text": [
      "Самая длинная последовательность у 5 Длинна последовательности - 5\n"
     ]
    }
   ],
   "source": [
    "# Задание-3:\n",
    "# Напишите скрипт, заполняющий указанный файл (самостоятельно задайте имя файла)\n",
    "# произвольными целыми цифрами, в результате в файле должно быть\n",
    "# 2500-значное произвольное число.\n",
    "# Найдите и выведите самую длинную последовательность одинаковых цифр\n",
    "# в вышезаполненном файле.\n",
    "import random, re\n",
    "\n",
    "\n",
    "def write_num():\n",
    "    num = random.randint(10**2499, 10**2500)\n",
    "    with open('num.txt', 'w') as f:\n",
    "        f.write(str(num))\n",
    "        \n",
    "\n",
    "def get_num():\n",
    "    with open('num.txt') as f:\n",
    "        num = int(f.read())\n",
    "        return num\n",
    "\n",
    "    \n",
    "    \n",
    "write_num()\n",
    "num = get_num()\n",
    "\n",
    "numbers = [i for i in range(0, 10)]\n",
    "result = []\n",
    "qwe = None\n",
    "a, ii = 0, 0\n",
    "\n",
    "for i in numbers:\n",
    "    qwe = set(re.findall(str(i) + '+', str(num)))\n",
    "    for j in qwe:\n",
    "        a = len(j) if len(j) > int(a) else a\n",
    "    result.append([i, a])\n",
    "    a = 0\n",
    "    \n",
    "for i in result:\n",
    "    a = int(i[0]) if ii < int(i[1]) else a \n",
    "    ii = int(i[1]) if ii < int(i[1]) else ii\n",
    "    \n",
    "\n",
    "    \n",
    "    \n",
    "print('Самая длинная последовательность у', a, 'Длинна последовательности -', ii)\n",
    "\n",
    "    \n",
    "    \n"
   ]
  },
  {
   "cell_type": "markdown",
   "metadata": {},
   "source": [
    "# Hard"
   ]
  },
  {
   "cell_type": "code",
   "execution_count": 63,
   "metadata": {},
   "outputs": [
    {
     "name": "stdout",
     "output_type": "stream",
     "text": [
      "[[1, 3, 0], [0, 4, 4], [8, 1, 2]]\n"
     ]
    }
   ],
   "source": [
    "# Задание-1:\n",
    "# Матрицы в питоне реализуются в виде вложенных списков:\n",
    "# Пример. Дано:\n",
    "matrix = [[1, 0, 8],\n",
    "          [3, 4, 1],\n",
    "          [0, 4, 2]]\n",
    "          \n",
    "# Выполнить поворот (транспонирование) матрицы\n",
    "# Пример. Результат:\n",
    "# matrix_rotate = [[1, 3, 0],\n",
    "#                  [0, 4, 4],\n",
    "#                  [8, 1, 2]]\n",
    "\n",
    "# Суть сложности hard: Решите задачу в одну строку\n",
    "\n",
    "\n",
    "matrix_rotate = list(map(list, zip(*matrix)))\n",
    "print(matrix_rotate)"
   ]
  },
  {
   "cell_type": "code",
   "execution_count": 84,
   "metadata": {},
   "outputs": [
    {
     "name": "stdout",
     "output_type": "stream",
     "text": [
      "Ответ - 364 Индекс в числе Произведение 5-ти чисел = 40824 Число - 99879\n",
      "40824\n"
     ]
    }
   ],
   "source": [
    "# Задание-2:\n",
    "# Найдите наибольшее произведение пяти последовательных цифр в 1000-значном числе.\n",
    "# Выведите произведение и индекс смещения первого числа последовательных 5-ти цифр.\n",
    "# Пример 1000-значного числа:\n",
    "number = \"\"\"\n",
    "73167176531330624919225119674426574742355349194934\n",
    "96983520312774506326239578318016984801869478851843\n",
    "85861560789112949495459501737958331952853208805511\n",
    "12540698747158523863050715693290963295227443043557\n",
    "66896648950445244523161731856403098711121722383113\n",
    "62229893423380308135336276614282806444486645238749\n",
    "30358907296290491560440772390713810515859307960866\n",
    "70172427121883998797908792274921901699720888093776\n",
    "65727333001053367881220235421809751254540594752243\n",
    "52584907711670556013604839586446706324415722155397\n",
    "53697817977846174064955149290862569321978468622482\n",
    "83972241375657056057490261407972968652414535100474\n",
    "82166370484403199890008895243450658541227588666881\n",
    "16427171479924442928230863465674813919123162824586\n",
    "17866458359124566529476545682848912883142607690042\n",
    "24219022671055626321111109370544217506941658960408\n",
    "07198403850962455444362981230987879927244284909188\n",
    "84580156166097919133875499200524063689912560717606\n",
    "05886116467109405077541002256983155200055935729725\n",
    "71636269561882670428252483600823257530420752963450\"\"\"\n",
    "\n",
    "number = ''.join(number.split('\\n'))\n",
    "\n",
    "result = []\n",
    "i = 0\n",
    "ii = [0, 0]\n",
    "\n",
    "\n",
    "while i < len(number[:-5]):\n",
    "    result.append([i, int(number[i])*int(number[i+1])*int(number[i+2])*int(number[i+3])*int(number[i+4])])\n",
    "    i+=1\n",
    "\n",
    "    \n",
    "for i in result:\n",
    "    ii = i if i[1] > ii[1] else ii\n",
    "    \n",
    "print('Ответ -', ii[0], 'Индекс в числе', 'Произведение 5-ти чисел =', ii[1], 'Число -', number[ii[0]:ii[0] + 5])\n",
    "\n",
    "\n",
    "print(9*9*8*7*9)\n",
    "\n"
   ]
  },
  {
   "cell_type": "code",
   "execution_count": null,
   "metadata": {},
   "outputs": [],
   "source": [
    "# к сожалению с ферзями решить не получилось (не хватило времени :((( )"
   ]
  }
 ],
 "metadata": {
  "kernelspec": {
   "display_name": "Python 3",
   "language": "python",
   "name": "python3"
  },
  "language_info": {
   "codemirror_mode": {
    "name": "ipython",
    "version": 3
   },
   "file_extension": ".py",
   "mimetype": "text/x-python",
   "name": "python",
   "nbconvert_exporter": "python",
   "pygments_lexer": "ipython3",
   "version": "3.7.0"
  }
 },
 "nbformat": 4,
 "nbformat_minor": 2
}
