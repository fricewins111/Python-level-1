{
 "cells": [
  {
   "cell_type": "markdown",
   "metadata": {},
   "source": [
    "# Easy"
   ]
  },
  {
   "cell_type": "code",
   "execution_count": 28,
   "metadata": {},
   "outputs": [
    {
     "name": "stdout",
     "output_type": "stream",
     "text": [
      "2.12346\n",
      "2.2\n",
      "3.0\n"
     ]
    }
   ],
   "source": [
    "\n",
    "# Задание-1:\n",
    "# Напишите функцию, округляющую полученное произвольное десятичное число\n",
    "# до кол-ва знаков (кол-во знаков передается вторым аргументом).\n",
    "# Округление должно происходить по математическим правилам (0.6 --> 1, 0.4 --> 0).\n",
    "# Для решения задачи не используйте встроенные функции и функции из модуля math.\n",
    "\n",
    "def my_round(number, ndigits):\n",
    "    number = str(number).split('.')\n",
    "    if int(number[1][ndigits + 1]) >= 5:\n",
    "        number = float(number[0] + '.' + number[1][:ndigits]) + 0.1 ** ndigits\n",
    "    else:\n",
    "        number = float(number[0] + '.' + number[1][:ndigits])\n",
    "    return number\n",
    "\n",
    "\n",
    "\n",
    "print(my_round(2.1234567, 5))\n",
    "print(my_round(2.1999967, 5))\n",
    "print(my_round(2.9999967, 5))"
   ]
  },
  {
   "cell_type": "code",
   "execution_count": 233,
   "metadata": {},
   "outputs": [
    {
     "name": "stdout",
     "output_type": "stream",
     "text": [
      "TRUE\n",
      "Ошибка! В билете не 6 цифр\n",
      "TRUE\n"
     ]
    }
   ],
   "source": [
    "# Задание-2:\n",
    "# Дан шестизначный номер билета. Определить, является ли билет счастливым.\n",
    "# Решение реализовать в виде функции.\n",
    "# Билет считается счастливым, если сумма его первых и последних цифр равны.\n",
    "# !!!P.S.: функция не должна НИЧЕГО print'ить\n",
    "\n",
    "def lucky_ticket(ticket_number):\n",
    "    if len(str(ticket_number)) == 6:\n",
    "        right = int(str(ticket_number)[0]) + int(str(ticket_number)[1]) + int(str(ticket_number)[2])\n",
    "        left = int(str(ticket_number)[3]) + int(str(ticket_number)[4]) + int(str(ticket_number)[5])\n",
    "        return 'TRUE' if left == right else 'FALSE'\n",
    "    else:\n",
    "        return 'Ошибка! В билете не 6 цифр'\n",
    "\n",
    "\n",
    "print(lucky_ticket(123006))\n",
    "print(lucky_ticket(12321))\n",
    "print(lucky_ticket(436751))"
   ]
  },
  {
   "cell_type": "markdown",
   "metadata": {},
   "source": [
    "# Normal"
   ]
  },
  {
   "cell_type": "code",
   "execution_count": 243,
   "metadata": {},
   "outputs": [
    {
     "name": "stdout",
     "output_type": "stream",
     "text": [
      "[1, 1, 2, 3, 5, 8, 13, 21, 34, 55, 89, 144, 233, 377, 610, 987, 1597, 2584, 4181, 6765, 10946, 17711, 28657, 46368, 75025, 121393, 196418, 317811, 514229, 832040, 1346269, 2178309, 3524578, 5702887, 9227465, 14930352, 24157817, 39088169, 63245986, 102334155, 165580141, 267914296, 433494437, 701408733, 1134903170, 1836311903, 2971215073, 4807526976, 7778742049, 12586269025]\n"
     ]
    }
   ],
   "source": [
    "# Задание-1:\n",
    "# Напишите функцию, возвращающую ряд Фибоначчи с n-элемента до m-элемента.\n",
    "# Первыми элементами ряда считать цифры 1 1\n",
    "\n",
    "def fibonacci(n = 1, m = 10):\n",
    "    fib = [1, 1]\n",
    "    while len(fib) < m:\n",
    "        fib.append(fib[-1] + fib[-2])\n",
    "    return fib\n",
    "\n",
    "print(fibonacci(1, 50))\n"
   ]
  },
  {
   "cell_type": "code",
   "execution_count": 12,
   "metadata": {},
   "outputs": [
    {
     "name": "stdout",
     "output_type": "stream",
     "text": [
      "[-12, -11, 0, 2, 2, 2.5, 4, 4, 4, 10, 12, 19, 20, 28, 32, 56, 100, 323, 345]\n"
     ]
    }
   ],
   "source": [
    "# Задача-2:\n",
    "# Напишите функцию, сортирующую принимаемый список по возрастанию.\n",
    "# Для сортировки используйте любой алгоритм (например пузырьковый).\n",
    "# Для решения данной задачи нельзя использовать встроенную функцию и метод sort()\n",
    "\n",
    "def sort_to_max(origin_list):\n",
    "    i, ii = 0, 0\n",
    "    while i < len(origin_list) - 1:\n",
    "        if origin_list[i] > origin_list[i+1]:\n",
    "            origin_list[i], origin_list[i + 1] = origin_list[i+1], origin_list[i]\n",
    "            ii+=1\n",
    "            i+=1\n",
    "        else:\n",
    "            i+=1\n",
    "        if i == len(origin_list) - 1 and ii > 0:\n",
    "            i = 0\n",
    "            ii = 0\n",
    "        elif i == len(origin_list) - 1 and ii == 0:\n",
    "            return origin_list\n",
    "\n",
    "print(sort_to_max([2, 10, -12, 2.5, 20, -11, 4, 4, 0, 100, 12, 2, 32, 56, 345, 19, 323, 4, 28]))"
   ]
  },
  {
   "cell_type": "code",
   "execution_count": 27,
   "metadata": {},
   "outputs": [
    {
     "name": "stdout",
     "output_type": "stream",
     "text": [
      "[1, 2, 3, 12, 2]\n"
     ]
    }
   ],
   "source": [
    "# Задача-3:\n",
    "# Напишите собственную реализацию стандартной функции filter.\n",
    "# Разумеется, внутри нельзя использовать саму функцию filter.\n",
    "\n",
    "def example_func(num):\n",
    "    if num > 0:\n",
    "        return num\n",
    "\n",
    "def filtered(func, diction):\n",
    "    diction2 = []\n",
    "    for i in diction:\n",
    "        diction2.append(func(i)) if func(i) != None else None\n",
    "    return diction2\n",
    "    \n",
    "print(filtered(example_func, [1,2,3,-1,-235,12,-1,2]))"
   ]
  },
  {
   "cell_type": "code",
   "execution_count": 6,
   "metadata": {},
   "outputs": [
    {
     "name": "stdout",
     "output_type": "stream",
     "text": [
      "Введите координаты точки A1 через запятую1,2\n",
      "Введите координаты точки A2 через запятую2,1\n",
      "Введите координаты точки A3 через запятую4,3\n",
      "Введите координаты точки A4 через запятую3,4\n"
     ]
    },
    {
     "data": {
      "text/plain": [
       "'Равны! Значит Паралерограмм'"
      ]
     },
     "execution_count": 6,
     "metadata": {},
     "output_type": "execute_result"
    }
   ],
   "source": [
    "# Задача-4:\n",
    "# Даны четыре точки А1(х1, у1), А2(x2 ,у2), А3(x3 , у3), А4(х4, у4).\n",
    "# Определить, будут ли они вершинами параллелограмма.\n",
    "def parallel(a1, a2, a3, a4):\n",
    "    a1, a2, a3, a4 = a1.split(','), a2.split(','), a3.split(','), a4.split(',')\n",
    "    lens_up = int(a1[1]) - int(a4[1])    #находим длину верхнего ребра\n",
    "    lens_down = int(a2[1]) - int(a3[1])  #находим длину нижнего ребра\n",
    "    lens_left = int(a1[0]) - int(a4[0])  #аналогично левое\n",
    "    lens_right = int(a2[0]) - int(a3[0]) #аналогично правое\n",
    "    lens_up, lens_down, lens_left, lens_right = abs(lens_up), abs(lens_down), abs(lens_left), abs(lens_right)\\\n",
    "    # переводим в абсолютные значения\n",
    "    if lens_up == lens_down and lens_left == lens_right or lens_up == lens_left and lens_down == lens_right:\n",
    "        return 'Равны! Значит Паралерограмм'\n",
    "    else:\n",
    "        return 'Не равны! Значит не паралерограмм!'\n",
    "    \n",
    "    \n",
    "    \n",
    "    \n",
    "a1, a2, a3, a4 = input('Введите координаты точки A1 через запятую'), input('Введите координаты точки A2 через запятую'),\\\n",
    "input('Введите координаты точки A3 через запятую'), input('Введите координаты точки A4 через запятую')\n",
    "\n",
    "parallel(a1,a2,a3,a4)\n",
    "\n"
   ]
  },
  {
   "cell_type": "markdown",
   "metadata": {},
   "source": [
    "# Hard\n"
   ]
  },
  {
   "cell_type": "code",
   "execution_count": 23,
   "metadata": {},
   "outputs": [
    {
     "name": "stdout",
     "output_type": "stream",
     "text": [
      "5/6 + 4/7 = 1 17/42\n",
      "-2/3 - -2 = 1 1/3\n",
      "1/8 + 1/4 = 12/32\n",
      "1/16 - 1/8 = -1 120/128\n"
     ]
    }
   ],
   "source": [
    "# Задание-1:\n",
    "# Написать программу, выполняющую операции (сложение и вычитание) с простыми дробями.\n",
    "# Дроби вводятся и выводятся в формате:\n",
    "# n x/y ,где n - целая часть, x - числитель, у - знаменатель.\n",
    "# Дроби могут быть отрицательные и не иметь целой части, или иметь только целую часть.\n",
    "# Примеры:\n",
    "# Ввод: 5/6 + 4/7 (всё выражение вводится целиком в виде строки)\n",
    "# Вывод: 1 17/42  (результат обязательно упростить и выделить целую часть)\n",
    "# Ввод: -2/3 - -2\n",
    "# Вывод: 1 1/3\n",
    "\n",
    "\n",
    "# virash = input('Введите выражение в виде : 5/6 + 4/7 \\n')\n",
    "\n",
    "\n",
    "def doit(virash):\n",
    "    virash = tuple(virash.split())\n",
    "    dr1 = virash[0].split('/') if '/' in virash[0] else [virash[0], 1]\n",
    "    dr2 = virash[2].split('/') if '/' in virash[2] else [virash[2], 1]\n",
    "    apperand = virash[1]\n",
    "    znamen = int(dr1[1]) * int(dr2[1])\n",
    "    dr1 = int(dr1[0]) * (znamen // int(dr1[1])), znamen\n",
    "    dr2 = int(dr2[0]) * (znamen // int(dr2[1])), znamen\n",
    "    chisl = None\n",
    "    if apperand == '+':\n",
    "        chisl = dr1[0] + dr2[0]\n",
    "        if chisl // znamen != 0:\n",
    "            return '{} {}/{}'.format(chisl // znamen, chisl % znamen, znamen)\n",
    "        else:\n",
    "            return '{}/{}'.format(chisl, znamen)\n",
    "    else:\n",
    "        chisl = dr1[0] - dr2[0]\n",
    "        if chisl // znamen != 0:\n",
    "            return '{} {}/{}'.format(chisl // znamen, chisl % znamen, znamen)\n",
    "        else:\n",
    "            return '{}/{}'.format(chisl, znamen)\n",
    "        \n",
    "        \n",
    "prim = '5/6 + 4/7', '-2/3 - -2', '1/8 + 1/4', '1/16 - 1/8'\n",
    "for i in prim:\n",
    "    print(i, '=', doit(i))\n"
   ]
  },
  {
   "cell_type": "code",
   "execution_count": 85,
   "metadata": {},
   "outputs": [
    {
     "name": "stdout",
     "output_type": "stream",
     "text": [
      "{'Петр Алексеев': 18857.14, 'Матвей Бурин': 50400.0, 'Василий Сидоров': 15250.0, 'Альберт Грибов': 14750.0, 'Василий Иванов': 28800.0, 'Петр Дурин': 10000.0}\n"
     ]
    }
   ],
   "source": [
    "# Задание-2:\n",
    "# Дана ведомость расчета заработной платы (файл \"data/workers\").\n",
    "# Рассчитайте зарплату всех работников, зная что они получат полный оклад,\n",
    "# если отработают норму часов. Если же они отработали меньше нормы,\n",
    "# то их ЗП уменьшается пропорционально, а за заждый час переработки\n",
    "# они получают удвоенную ЗП, пропорциональную норме.\n",
    "# Кол-во часов, которые были отработаны, указаны в файле \"data/hours_of\"\n",
    "data_norm = {}\n",
    "data_dict_fact = {}\n",
    "data_dict_cost = {}\n",
    "costs, cost_double = 0, 0\n",
    "\n",
    "with open('data/hours_of.txt') as file:\n",
    "    data = file.read().split('\\n')[2:]\n",
    "    for i in data:\n",
    "        i = i.split()\n",
    "        data_dict_fact[i[0] + ' ' + i[1]] = i[2]\n",
    "with open('data/workers.txt') as file:\n",
    "    data = file.read().split('\\n')[1:]\n",
    "    for i in data:\n",
    "        i = i.split()\n",
    "        data_norm[i[0] + ' ' + i[1]] = list((i[2], i[3], i[4]))\n",
    "\n",
    "for i in data_dict_fact:\n",
    "    if int(data_dict_fact[i]) < int(data_norm[i][2]):\n",
    "        costs = int(data_norm[i][0]) / int(data_norm[i][2])\n",
    "        data_dict_cost[i] = round(int(data_dict_fact[i]) * costs, 2)\n",
    "    else:\n",
    "        cost_double = int(data_dict_fact[i]) - int(data_norm[i][2])\n",
    "        costs = int(data_norm[i][0]) / int(data_norm[i][2])\n",
    "        cost_double = costs * cost_double * 2\n",
    "        data_dict_cost[i] = round(int(data_dict_fact[i]) * costs + cost_double, 2)\n",
    "        \n",
    "print(data_dict_cost)"
   ]
  },
  {
   "cell_type": "code",
   "execution_count": 84,
   "metadata": {},
   "outputs": [],
   "source": [
    "# Задание-3:\n",
    "# Дан файл (\"data/fruits\") со списком фруктов.\n",
    "# Записать в новые файлы все фрукты, начинающиеся с определенной буквы.\n",
    "# Т.е. в одном файле будут все фрукты на букву “А”, во втором на “Б” и т.д.\n",
    "# Файлы назвать соответственно.\n",
    "# Пример имен файлов: fruits_А, fruits_Б, fruits_В ….\n",
    "# Важно! Обратите внимание, что нет фруктов, начинающихся с некоторых букв.\n",
    "# Напишите универсальный код, который будет работать с любым списком фруктов\n",
    "# и распределять по файлам в зависимости от первых букв, имеющихся в списке фруктов.\n",
    "# Подсказка:\n",
    "# Чтобы получить список больших букв русского алфавита:\n",
    "alfabet = list(map(chr, range(ord('А'), ord('Я')+1)))\n",
    "fruit_list = None\n",
    "i = -1\n",
    "\n",
    "with open('data/fruits.txt') as file:\n",
    "    fruit_list = set(file.read().split('\\n'))\n",
    "    while i < len(alfabet):\n",
    "        for ii in fruit_list:\n",
    "            if ii == '':\n",
    "                pass\n",
    "            elif ii[0] == alfabet[i]:\n",
    "                with open('data/fruits_data/fruits_' + alfabet[i] + '.txt', 'a') as f:\n",
    "                    f.write(ii + '\\n')\n",
    "            else:\n",
    "                pass\n",
    "\n",
    "        i += 1"
   ]
  }
 ],
 "metadata": {
  "kernelspec": {
   "display_name": "Python 3",
   "language": "python",
   "name": "python3"
  },
  "language_info": {
   "codemirror_mode": {
    "name": "ipython",
    "version": 3
   },
   "file_extension": ".py",
   "mimetype": "text/x-python",
   "name": "python",
   "nbconvert_exporter": "python",
   "pygments_lexer": "ipython3",
   "version": "3.7.0"
  }
 },
 "nbformat": 4,
 "nbformat_minor": 2
}
